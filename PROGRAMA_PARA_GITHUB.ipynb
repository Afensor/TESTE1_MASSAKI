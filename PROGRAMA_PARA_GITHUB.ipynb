{
  "nbformat": 4,
  "nbformat_minor": 0,
  "metadata": {
    "colab": {
      "provenance": [],
      "authorship_tag": "ABX9TyNqeU0egxceHGsMn8trYD5f",
      "include_colab_link": true
    },
    "kernelspec": {
      "name": "python3",
      "display_name": "Python 3"
    },
    "language_info": {
      "name": "python"
    }
  },
  "cells": [
    {
      "cell_type": "markdown",
      "metadata": {
        "id": "view-in-github",
        "colab_type": "text"
      },
      "source": [
        "<a href=\"https://colab.research.google.com/github/Afensor/TESTE1_MASSAKI/blob/main/PROGRAMA_PARA_GITHUB.ipynb\" target=\"_parent\"><img src=\"https://colab.research.google.com/assets/colab-badge.svg\" alt=\"Open In Colab\"/></a>"
      ]
    },
    {
      "cell_type": "code",
      "execution_count": null,
      "metadata": {
        "colab": {
          "base_uri": "https://localhost:8080/"
        },
        "id": "0XhrN_5OeDNz",
        "outputId": "0e756ff2-a039-4180-f663-5a3e0464bc6a"
      },
      "outputs": [
        {
          "output_type": "stream",
          "name": "stdout",
          "text": [
            "<class 'str'>\n",
            "<class 'str'>\n",
            "<class 'str'>\n",
            "23.8\n"
          ]
        }
      ],
      "source": [
        "#COMENTARIO PYTON\n",
        "a = \"2\"\n",
        "print(type(a))\n",
        "b = '3.8'\n",
        "print(type(b))\n",
        "soma= a+b\n",
        "print(type(soma))\n",
        "print(soma)"
      ]
    },
    {
      "cell_type": "code",
      "source": [
        "num= int(input(\"digite um Nº inteiro:\"))\n",
        "print(type(num))\n",
        "quociente = num//2\n",
        "resto= num%2\n",
        "print(\"Quociente =\", quociente)\n",
        "print (\"Resto =\", resto)"
      ],
      "metadata": {
        "colab": {
          "base_uri": "https://localhost:8080/"
        },
        "id": "3ZFtLH2dg2S3",
        "outputId": "aa9a7222-4535-4dfc-f147-2c5f769960d0"
      },
      "execution_count": null,
      "outputs": [
        {
          "output_type": "stream",
          "name": "stdout",
          "text": [
            "digite um Nº inteiro:50\n",
            "<class 'int'>\n",
            "Quociente = 25\n",
            "Resto = 0\n"
          ]
        }
      ]
    },
    {
      "cell_type": "markdown",
      "source": [],
      "metadata": {
        "id": "1vQWkqkDeVdz"
      }
    },
    {
      "cell_type": "code",
      "source": [
        "#CALCULO DE MÉDIA\n",
        "v1= float(input(\"por gentileza insira a primeira nota:\"))\n",
        "v2= float(input(\"Agora a segunda nota:\"))\n",
        "media=(v1+v2)/2\n",
        "print(\"A média do aluno é:\", media)"
      ],
      "metadata": {
        "colab": {
          "base_uri": "https://localhost:8080/"
        },
        "id": "9YBv3aodirMI",
        "outputId": "c6b0bb52-b97d-4aa7-8d82-0f6d5172b3b0"
      },
      "execution_count": null,
      "outputs": [
        {
          "output_type": "stream",
          "name": "stdout",
          "text": [
            "por gentileza insira a primeira nota:5\n",
            "Agora a segunda nota:2\n",
            "A média do aluno é: 3.5\n"
          ]
        }
      ]
    },
    {
      "cell_type": "markdown",
      "source": [],
      "metadata": {
        "id": "A_GEMR4ik75S"
      }
    },
    {
      "cell_type": "code",
      "source": [
        "#EXEMPLO 2 SOLICITADO NO PDF CANVAS\n",
        "b= float(input(\"digite o valor da base:\"))\n",
        "h= float(input(\"digite o valor da altura:\"))\n",
        "area= (b*h)/2\n",
        "print (\"o valor da Área é:\", area)"
      ],
      "metadata": {
        "colab": {
          "base_uri": "https://localhost:8080/"
        },
        "id": "xnP-kieHj6iP",
        "outputId": "4251e6ce-4add-44bb-d489-961ca8fb3f1a"
      },
      "execution_count": null,
      "outputs": [
        {
          "output_type": "stream",
          "name": "stdout",
          "text": [
            "digite o valor da base:5\n",
            "digite o valor da altura:5\n",
            "o valor da Área é: 12.5\n"
          ]
        }
      ]
    },
    {
      "cell_type": "code",
      "source": [],
      "metadata": {
        "id": "3mel8K8WY_XK"
      },
      "execution_count": null,
      "outputs": []
    },
    {
      "cell_type": "markdown",
      "source": [
        "AULA 03/09/2024"
      ],
      "metadata": {
        "id": "dOWiG_teY9y7"
      }
    },
    {
      "cell_type": "code",
      "source": [
        "p = float(input(\"DIGITE A MEDIDA EM POLEGADAS\"))\n",
        "milimetro = p*25.4\n",
        "print(f\"{p} polegadas é igual a {milimetro:.2f} milimetros.\")\n"
      ],
      "metadata": {
        "colab": {
          "base_uri": "https://localhost:8080/"
        },
        "id": "47VAyfzcY9Sb",
        "outputId": "cc8885d8-8ed6-404a-a67f-2556909a7086"
      },
      "execution_count": null,
      "outputs": [
        {
          "output_type": "stream",
          "name": "stdout",
          "text": [
            "DIGITE A MEDIDA EM POLEGADAS2\n",
            "2.0 polegadas é igual a 50.80 milimetros.\n"
          ]
        }
      ]
    },
    {
      "cell_type": "markdown",
      "source": [
        "EXERCICIO PARA PRATICAR 05!!!\n",
        "Criar a narrativa, pseudocódigo, fluxograma e código para um programa que receba o raio (r) de uma esfera, e\n",
        "em seguida calcule e exibir o seu volume (v) desta esfera.\n",
        "\n",
        "\n",
        "**NARRATIVA:**\n",
        "busque o valor de pi usando **from math import pi**\n",
        " **LER** NUMERO PARA SABER O RAIO FORNECIDO,\n",
        " APÓS ISSO COLOQUE **V**= **4*pi*RAIOAOCUBO/3 *texto em itálico*\n",
        "EXIBIR= O VOLUME É \"X\"\n",
        "\n",
        "**PSEUDOCÓDIGO:**\n",
        "INICIO:\n",
        "from math import pi\n",
        "RAIO= FLOAT\n",
        "V= 4*pi*(raio**3/3\n",
        "exibir V\n"
      ],
      "metadata": {
        "id": "4KKZeRUscjeJ"
      }
    },
    {
      "cell_type": "code",
      "source": [
        "#importando biblioteca matematica\n",
        "import math\n",
        "#PEDINDO O VALOR DE RAIO\n",
        "raio=float(input(\"Insira o valor do Raio:\"))\n",
        "#CALCULANDO VOLUME\n",
        "v=(4*math.pi*(raio**3)/3)\n",
        "#EXIBINDO RESULTADO\n",
        "print(f\"O volume de uma esfera com raio de {raio} é {v:.2f} un. cúbicas\")\n",
        "\n",
        "\n"
      ],
      "metadata": {
        "colab": {
          "base_uri": "https://localhost:8080/"
        },
        "id": "LkQE8OYIci6h",
        "outputId": "3825ff64-0348-47f3-e91a-539f0497f8d2"
      },
      "execution_count": null,
      "outputs": [
        {
          "output_type": "stream",
          "name": "stdout",
          "text": [
            "Insira o valor do Raio:5\n",
            "O volume de uma esfera com raio de 5.0 é 523.60 un. cúbicas\n"
          ]
        }
      ]
    },
    {
      "cell_type": "markdown",
      "source": [
        "6) Criar a narrativa, pseudocódigo, fluxograma e código para um programa que receba um ângulo (g) em graus, e\n",
        "converta este valor para radianos (r).\n",
        "\n",
        "**NARRATIVA**\n",
        "IMPORTE A BIBLIOTECA D MATEMATICA\n",
        "PEÇA UM ANGULO EM GRAUS,\n",
        "CALCULE O RADIANO UTILIZANDO O ANGULO/180*PI\n",
        "EXIBA O RESULTADO\n",
        "\n",
        "**PSEUDOCODIGO**\n",
        "IMPORT MATH\n",
        "GRAUS= FLOAT\n",
        "RADIANOS= GRAUS/180*PI\n",
        "EXIBA O RESULTADO"
      ],
      "metadata": {
        "id": "3Cekm_mci18r"
      }
    },
    {
      "cell_type": "code",
      "source": [
        "#IMPORTANDO B. MATEMATICA\n",
        "import math\n",
        "#PEDINDO O ANGULO COM UM FLUTUANTE\n",
        "graus= float(input(\"insira o angulo desejado para transpor para Radiano:\"))\n",
        "#TRANSFORMANDO PARA RADIANO\n",
        "radianos= graus/180*math.pi\n",
        "#EXIBINDO O RESULTADO\n",
        "print(f\"o valor em radiano do angulo {graus} é {radianos:.2f}50\")"
      ],
      "metadata": {
        "colab": {
          "base_uri": "https://localhost:8080/"
        },
        "id": "MTljj3WXkIc3",
        "outputId": "d30247f6-5a2c-4975-8580-3cc81d8b86b1"
      },
      "execution_count": null,
      "outputs": [
        {
          "output_type": "stream",
          "name": "stdout",
          "text": [
            "insira o angulo desejado para transpor para Radiano:50\n",
            "o valor em radiano do angulo 50.0 é 0.87\n"
          ]
        }
      ]
    },
    {
      "cell_type": "markdown",
      "source": [
        "EXERCICIO 07 EM AULA\n",
        "7) Criar a narrativa, pseudocódigo, fluxograma e código para um programa que receba o valor de um ângulo em\n",
        "radianos, e converta este valor para graus."
      ],
      "metadata": {
        "id": "iRQY9WOTlj1m"
      }
    },
    {
      "cell_type": "code",
      "source": [
        "#IMPORTANDO BIBLIOTECA MATEMATICA\n",
        "import math\n",
        "radiano=float(input(\"insira o angulo em radiano\"))\n",
        "#transformando radiano para graus\n",
        "graus=radiano*180/math.pi\n",
        "print(f\"o valor em graus do valor radiano {radiano} é: {graus:.2f}\")\n",
        "\n"
      ],
      "metadata": {
        "colab": {
          "base_uri": "https://localhost:8080/"
        },
        "id": "HZYjtyRElCcK",
        "outputId": "913b2084-71d3-41cc-b018-fbaa4f25df44"
      },
      "execution_count": null,
      "outputs": [
        {
          "output_type": "stream",
          "name": "stdout",
          "text": [
            "insira o angulo em radiano90\n",
            "o valor em graus do valor radiano 90.0 é: 5156.62\n"
          ]
        }
      ]
    },
    {
      "cell_type": "markdown",
      "source": [
        "REALIZAR EXERCICIO 08 NO SLIDE PAG 10."
      ],
      "metadata": {
        "id": "o6JRC0yHdcAl"
      }
    },
    {
      "cell_type": "code",
      "source": [
        "import math\n",
        "radiano=float(input(\"insira o angulo em radiano\"))\n",
        "#transformando radiano para grados\n",
        "grados=radiano*63.,662\n",
        "print(f\"o valor em grados do valor radiano {radiano} é: {grados:.2f}\")\n"
      ],
      "metadata": {
        "colab": {
          "base_uri": "https://localhost:8080/"
        },
        "id": "lW8gqcrOdbin",
        "outputId": "84e5f170-dffd-4d30-b34e-86c201f98cb9"
      },
      "execution_count": null,
      "outputs": [
        {
          "output_type": "stream",
          "name": "stdout",
          "text": [
            "insira o angulo em radiano5\n",
            "o valor em grados do valor radiano 5.0 é: 318.31\n"
          ]
        }
      ]
    },
    {
      "cell_type": "markdown",
      "source": [
        "AULA 10/09/24\n",
        "FALANDO SE O NUMERO É PAR OU IMPAR\n",
        "\n",
        "\n",
        "\n",
        "\n"
      ],
      "metadata": {
        "id": "ZgEaB2ffdmrQ"
      }
    },
    {
      "cell_type": "code",
      "source": [
        "#PEDINDO O NUMERO\n",
        "numero=float(input(\"INSIRA UM NÚMERO:\"))\n",
        "#CALCULANDO O RESTO E VENDO SE É OU NÃO PAR\n",
        "if numero % 2== 0:\n",
        "  print(f\"O número: {numero} é par.\")\n",
        "else:\n",
        "  print(f\"O número {numero} é impar.\")"
      ],
      "metadata": {
        "colab": {
          "base_uri": "https://localhost:8080/"
        },
        "id": "WC5XlCf0dmdY",
        "outputId": "04926822-5b33-46f7-db59-9a9aa03c0379"
      },
      "execution_count": null,
      "outputs": [
        {
          "output_type": "stream",
          "name": "stdout",
          "text": [
            "INSIRA UM NÚMERO:5\n",
            "O número 5.0 é impar.\n"
          ]
        }
      ]
    },
    {
      "cell_type": "markdown",
      "source": [
        "EXEMPLO 04\n"
      ],
      "metadata": {
        "id": "qXqRpJKXhLhd"
      }
    },
    {
      "cell_type": "code",
      "source": [
        "#PEDINDO NUMERO\n",
        "numero=float(input(\"Digite o numero para raiz desejada:\"))\n",
        "#VERIFICANDO SE É RAIZ REAL OU NÃO.\n",
        "if numero>=0:\n",
        "    raiz=numero**(1/2)\n",
        "    print(f\"O Número: {numero} tem a Raiz: {raiz:.2f}.\")\n",
        "else:\n",
        "   print(\"Não existe raiz real para est número\")\n"
      ],
      "metadata": {
        "colab": {
          "base_uri": "https://localhost:8080/"
        },
        "id": "UwQ4kAMHhJ0k",
        "outputId": "a8bdf5cf-0b23-45bd-955f-47867e9baa4e"
      },
      "execution_count": null,
      "outputs": [
        {
          "output_type": "stream",
          "name": "stdout",
          "text": [
            "Digite o numero para raiz desejada:40\n",
            "O Número: 40.0 tem a Raiz: 6.32.\n"
          ]
        }
      ]
    },
    {
      "cell_type": "markdown",
      "source": [
        "EXEMPLO 05"
      ],
      "metadata": {
        "id": "Tt-Q7_pKljHq"
      }
    },
    {
      "cell_type": "code",
      "source": [
        "#PEDINDO O COMPRIMENTO DA CAMISA\n",
        "comp=float(input(\"Insira o valor do comprimento de sua camisa:\"))\n",
        "larg=float(input(\"Insira  o valor da largura de sua camisa:\"))\n",
        "#ACHANDO ONDE SE ENCAIXA A MEDIDA DA CAMISA\n",
        "if comp <=66 and larg <=50:\n",
        "  tamanho = \"PP\"\n",
        "\n",
        "elif comp <=70 and larg <=54:\n",
        "  tamanho = \"P\"\n",
        "\n",
        "elif comp <=72 and larg<=56:\n",
        "  tamanho = \"M\"\n",
        "\n",
        "elif comp <=74 and larg<=58:\n",
        "  tamanho = \"G\"\n",
        "\n",
        "elif comp <=76 and larg<=60:\n",
        "  tamanho = \"GG\"\n",
        "\n",
        "elif comp <=79 and larg<=63:\n",
        "  tamanho = \"XGG\"\n",
        "\n",
        "#EXIBINDO O TAMANHO DA CAMISA\n",
        "print(f\"O Tamanho da camisa é {tamanho}.\")"
      ],
      "metadata": {
        "colab": {
          "base_uri": "https://localhost:8080/"
        },
        "id": "3KZCFnZmlgKK",
        "outputId": "0a899b5a-9e0c-4b32-9317-f6e6b5caf1ec"
      },
      "execution_count": 50,
      "outputs": [
        {
          "output_type": "stream",
          "name": "stdout",
          "text": [
            "Insira o valor do comprimento de sua camisa:2\n",
            "Insira  o valor da largura de sua camisa:2\n",
            "O Tamanho da camisa é PP.\n"
          ]
        }
      ]
    },
    {
      "cell_type": "markdown",
      "source": [
        "EXERCICIO EXTRA 01 \"MULTIPLO DE 3\""
      ],
      "metadata": {
        "id": "acrKRX5NfEs3"
      }
    },
    {
      "cell_type": "code",
      "source": [
        "#pedindo o numero para calculo\n",
        "num=int(input(\"Insira um numero:\"))\n",
        "#conferindo s é ou não multiplo de 3\n",
        "if num % 3== 0:\n",
        "  print(f\"O número: {num} é multiplo de 3.\")\n",
        "else:\n",
        "  print(f\"O número {num} não é multiplo de 3.\")"
      ],
      "metadata": {
        "colab": {
          "base_uri": "https://localhost:8080/"
        },
        "id": "R9cfMl3_fBhX",
        "outputId": "c254661d-b0fe-4c5d-9bd4-b48fc67eea0e"
      },
      "execution_count": 49,
      "outputs": [
        {
          "output_type": "stream",
          "name": "stdout",
          "text": [
            "Insira um numero:3\n",
            "O número: 3 é multiplo de 3.\n"
          ]
        }
      ]
    },
    {
      "cell_type": "markdown",
      "source": [
        "EXERCICIO EXTRA 02 \"calulando media ponderada\""
      ],
      "metadata": {
        "id": "L4NlcmoygI2E"
      }
    },
    {
      "cell_type": "code",
      "source": [
        "#inserindo notas\n",
        "nota1=float(input(\"insira a primeira nota:\"))\n",
        "nota2=float(input(\"insira a segunda nota:\"))\n",
        "#calculando a media ponderada\n",
        "media=(nota1*2+nota2*3)/5\n",
        "#exibindo resultados\n",
        "print(f\"A media do aluno foi {media:.2f}\")\n",
        "if media >=5:\n",
        "  print(\"Parabéns o aluno foi Aprovado\")\n",
        "else:\n",
        "  print(\"Infelizmente o aluno foi Reprovado\")"
      ],
      "metadata": {
        "colab": {
          "base_uri": "https://localhost:8080/"
        },
        "id": "Rd7v2nI7gQQU",
        "outputId": "aad8b23f-81e3-4c2d-bd1e-0dd4b05f6553"
      },
      "execution_count": null,
      "outputs": [
        {
          "output_type": "stream",
          "name": "stdout",
          "text": [
            "insira a primeira nota:5\n",
            "insira a segunda nota:6\n",
            "A media do aluno foi 5.60\n",
            "Parabéns o aluno foi Aprovado\n"
          ]
        }
      ]
    },
    {
      "cell_type": "markdown",
      "source": [
        "EXTRA 03 \"comparando numeros\""
      ],
      "metadata": {
        "id": "IwcDMkNGh3E8"
      }
    },
    {
      "cell_type": "code",
      "source": [
        "#pedindo valores\n",
        "num1 =float(input(\"insira o primeiro valor:\"))\n",
        "num2 =float(input(\"insira o segundo valor:\")\n",
        "num3 =float(input(\"insira o terceiro valor:\"))\n",
        "#comparando 1 com 2 e 3\n",
        "if num1<=num2 and num1<=num3:\n",
        "  print(f\"{num1} é o menor valor\")\n",
        "  #comparando 2 com 1 e 3\n",
        "elif num2<=1 and num2<=3:\n",
        "  print(f\"{num2} é o menor valor\")\n",
        "  #comparando 3 com 1  2\n",
        "else:\n",
        "  print(f\"{num3} é o menor valor\")"
      ],
      "metadata": {
        "colab": {
          "base_uri": "https://localhost:8080/"
        },
        "id": "JdvoPPEfh2UE",
        "outputId": "ef465d2e-050e-451d-e888-e9323d92de05"
      },
      "execution_count": 51,
      "outputs": [
        {
          "output_type": "stream",
          "name": "stdout",
          "text": [
            "insira o primeiro valor:5\n",
            "insira o segundo valor:5\n",
            "insira o terceiro valor:5\n",
            "5.0 é o menor valor\n"
          ]
        }
      ]
    },
    {
      "cell_type": "markdown",
      "source": [
        "contando numero de 0 até 10 com range"
      ],
      "metadata": {
        "id": "_35U1RhqtKPZ"
      }
    },
    {
      "cell_type": "code",
      "source": [
        "for n in range (11):\n",
        " print(n)"
      ],
      "metadata": {
        "colab": {
          "base_uri": "https://localhost:8080/"
        },
        "id": "w56mdg69tJ0p",
        "outputId": "5a36dde2-5cb3-4455-a7dc-11f5aea92e65"
      },
      "execution_count": 61,
      "outputs": [
        {
          "output_type": "stream",
          "name": "stdout",
          "text": [
            "0\n",
            "1\n",
            "2\n",
            "3\n",
            "4\n",
            "5\n",
            "6\n",
            "7\n",
            "8\n",
            "9\n",
            "10\n"
          ]
        }
      ]
    }
  ]
}