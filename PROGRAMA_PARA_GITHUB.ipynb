{
  "nbformat": 4,
  "nbformat_minor": 0,
  "metadata": {
    "colab": {
      "provenance": [],
      "authorship_tag": "ABX9TyMIHNBwWtUekloTRI0cT24A",
      "include_colab_link": true
    },
    "kernelspec": {
      "name": "python3",
      "display_name": "Python 3"
    },
    "language_info": {
      "name": "python"
    }
  },
  "cells": [
    {
      "cell_type": "markdown",
      "metadata": {
        "id": "view-in-github",
        "colab_type": "text"
      },
      "source": [
        "<a href=\"https://colab.research.google.com/github/Afensor/TESTE1_MASSAKI/blob/main/PROGRAMA_PARA_GITHUB.ipynb\" target=\"_parent\"><img src=\"https://colab.research.google.com/assets/colab-badge.svg\" alt=\"Open In Colab\"/></a>"
      ]
    },
    {
      "cell_type": "code",
      "execution_count": 5,
      "metadata": {
        "colab": {
          "base_uri": "https://localhost:8080/"
        },
        "id": "0XhrN_5OeDNz",
        "outputId": "0e756ff2-a039-4180-f663-5a3e0464bc6a"
      },
      "outputs": [
        {
          "output_type": "stream",
          "name": "stdout",
          "text": [
            "<class 'str'>\n",
            "<class 'str'>\n",
            "<class 'str'>\n",
            "23.8\n"
          ]
        }
      ],
      "source": [
        "#COMENTARIO PYTON\n",
        "a = \"2\"\n",
        "print(type(a))\n",
        "b = '3.8'\n",
        "print(type(b))\n",
        "soma= a+b\n",
        "print(type(soma))\n",
        "print(soma)"
      ]
    },
    {
      "cell_type": "code",
      "source": [
        "num= int(input(\"digite um Nº inteiro:\"))\n",
        "print(type(num))\n",
        "quociente = num//2\n",
        "resto= num%2\n",
        "print(\"Quociente =\", quociente)\n",
        "print (\"Resto =\", resto)"
      ],
      "metadata": {
        "colab": {
          "base_uri": "https://localhost:8080/"
        },
        "id": "3ZFtLH2dg2S3",
        "outputId": "aa9a7222-4535-4dfc-f147-2c5f769960d0"
      },
      "execution_count": 11,
      "outputs": [
        {
          "output_type": "stream",
          "name": "stdout",
          "text": [
            "digite um Nº inteiro:50\n",
            "<class 'int'>\n",
            "Quociente = 25\n",
            "Resto = 0\n"
          ]
        }
      ]
    },
    {
      "cell_type": "markdown",
      "source": [],
      "metadata": {
        "id": "1vQWkqkDeVdz"
      }
    },
    {
      "cell_type": "code",
      "source": [
        "#CALCULO DE MÉDIA\n",
        "v1= float(input(\"por gentileza insira a primeira nota:\"))\n",
        "v2= float(input(\"Agora a segunda nota:\"))\n",
        "media=(v1+v2)/2\n",
        "print(\"A média do aluno é:\", media)"
      ],
      "metadata": {
        "colab": {
          "base_uri": "https://localhost:8080/"
        },
        "id": "9YBv3aodirMI",
        "outputId": "c6b0bb52-b97d-4aa7-8d82-0f6d5172b3b0"
      },
      "execution_count": 12,
      "outputs": [
        {
          "output_type": "stream",
          "name": "stdout",
          "text": [
            "por gentileza insira a primeira nota:5\n",
            "Agora a segunda nota:2\n",
            "A média do aluno é: 3.5\n"
          ]
        }
      ]
    },
    {
      "cell_type": "markdown",
      "source": [],
      "metadata": {
        "id": "A_GEMR4ik75S"
      }
    },
    {
      "cell_type": "code",
      "source": [
        "#EXEMPLO 2 SOLICITADO NO PDF CANVAS\n",
        "b= float(input(\"digite o valor da base:\"))\n",
        "h= float(input(\"digite o valor da altura:\"))\n",
        "area= (b*h)/2\n",
        "print (\"o valor da Área é:\", area)"
      ],
      "metadata": {
        "colab": {
          "base_uri": "https://localhost:8080/"
        },
        "id": "xnP-kieHj6iP",
        "outputId": "4251e6ce-4add-44bb-d489-961ca8fb3f1a"
      },
      "execution_count": 14,
      "outputs": [
        {
          "output_type": "stream",
          "name": "stdout",
          "text": [
            "digite o valor da base:5\n",
            "digite o valor da altura:5\n",
            "o valor da Área é: 12.5\n"
          ]
        }
      ]
    }
  ]
}