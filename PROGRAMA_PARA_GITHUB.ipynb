{
  "nbformat": 4,
  "nbformat_minor": 0,
  "metadata": {
    "colab": {
      "provenance": [],
      "authorship_tag": "ABX9TyNHwNuSBnHZ/eQQ96tpfZe4",
      "include_colab_link": true
    },
    "kernelspec": {
      "name": "python3",
      "display_name": "Python 3"
    },
    "language_info": {
      "name": "python"
    }
  },
  "cells": [
    {
      "cell_type": "markdown",
      "metadata": {
        "id": "view-in-github",
        "colab_type": "text"
      },
      "source": [
        "<a href=\"https://colab.research.google.com/github/Afensor/TESTE1_MASSAKI/blob/main/PROGRAMA_PARA_GITHUB.ipynb\" target=\"_parent\"><img src=\"https://colab.research.google.com/assets/colab-badge.svg\" alt=\"Open In Colab\"/></a>"
      ]
    },
    {
      "cell_type": "code",
      "execution_count": 5,
      "metadata": {
        "colab": {
          "base_uri": "https://localhost:8080/"
        },
        "id": "0XhrN_5OeDNz",
        "outputId": "0e756ff2-a039-4180-f663-5a3e0464bc6a"
      },
      "outputs": [
        {
          "output_type": "stream",
          "name": "stdout",
          "text": [
            "<class 'str'>\n",
            "<class 'str'>\n",
            "<class 'str'>\n",
            "23.8\n"
          ]
        }
      ],
      "source": [
        "#COMENTARIO PYTON\n",
        "a = \"2\"\n",
        "print(type(a))\n",
        "b = '3.8'\n",
        "print(type(b))\n",
        "soma= a+b\n",
        "print(type(soma))\n",
        "print(soma)"
      ]
    },
    {
      "cell_type": "code",
      "source": [
        "num= int(input(\"digite um Nº inteiro:\"))\n",
        "print(type(num))\n",
        "quociente = num//2\n",
        "resto= num%2\n",
        "print(\"Quociente =\", quociente)\n",
        "print (\"Resto =\", resto)"
      ],
      "metadata": {
        "colab": {
          "base_uri": "https://localhost:8080/"
        },
        "id": "3ZFtLH2dg2S3",
        "outputId": "aa9a7222-4535-4dfc-f147-2c5f769960d0"
      },
      "execution_count": 11,
      "outputs": [
        {
          "output_type": "stream",
          "name": "stdout",
          "text": [
            "digite um Nº inteiro:50\n",
            "<class 'int'>\n",
            "Quociente = 25\n",
            "Resto = 0\n"
          ]
        }
      ]
    },
    {
      "cell_type": "markdown",
      "source": [
        "\n",
        "IMPORTANCIA DOS TIPOS DE DADOS:\n"
      ],
      "metadata": {
        "id": "41Kk3-yQg2xd"
      }
    },
    {
      "cell_type": "markdown",
      "source": [],
      "metadata": {
        "id": "1vQWkqkDeVdz"
      }
    }
  ]
}